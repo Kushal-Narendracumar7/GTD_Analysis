{
 "cells": [
  {
   "cell_type": "code",
   "execution_count": null,
   "metadata": {},
   "outputs": [],
   "source": [
    "import pandas as pd\n",
    "import matplotlib.pyplot as plt\n",
    "import plotly.express as px\n",
    "import plotly.graph_objects as go\n",
    "import seaborn as sns\n",
    "from wordcloud import WordCloud"
   ]
  },
  {
   "cell_type": "code",
   "execution_count": null,
   "metadata": {},
   "outputs": [],
   "source": [
    "df = pd.read_csv('preprocessed_globalterrorismDB.csv')"
   ]
  },
  {
   "cell_type": "code",
   "execution_count": null,
   "metadata": {},
   "outputs": [],
   "source": [
    "labels = ['1970-1979', '1980-1989', '1990-1999', '2000-2009', '2010-2017']\n",
    "bins = [1969, 1979, 1989, 1999, 2009, 2017]\n",
    "df['year-range'] = pd.cut(df['year'],bins = bins,labels = labels)\n"
   ]
  },
  {
   "cell_type": "markdown",
   "metadata": {},
   "source": [
    "# Yearly Trends in Terrorism\n",
    "\n",
    "Observations:\n",
    "- Peak activity: **2010-2017**, with over 86,000 attacks globally.\n",
    "- Significant increase observed between 2010-2017.\n"
   ]
  },
  {
   "cell_type": "code",
   "execution_count": null,
   "metadata": {},
   "outputs": [],
   "source": [
    "fig = px.histogram(\n",
    "    df,\n",
    "    x='year-range',\n",
    "    color='year-range',\n",
    "    title='Year Wise Attacks Distribution',\n",
    "    labels={'year-range':'Year Range','count':'Number of Attacks'},\n",
    "    template='plotly_dark'\n",
    ")\n",
    "fig.show()"
   ]
  },
  {
   "cell_type": "code",
   "execution_count": null,
   "metadata": {},
   "outputs": [],
   "source": [
    "fig = px.histogram(\n",
    "    df,\n",
    "    x='year-range',\n",
    "    y='total_casualities',\n",
    "    color='year-range',\n",
    "    title='Year Wise Casualities Distribution',\n",
    "    labels={'year-range':'Year Range','count':'Number of Casualities'},\n",
    "    template='plotly_dark'\n",
    ")\n",
    "fig.show()"
   ]
  },
  {
   "cell_type": "markdown",
   "metadata": {},
   "source": [
    "# Attack Type Distribution\n",
    "\n",
    "Insights:\n",
    "- **Bombing/Explosion**: Dominates the dataset, representing the majority of attack types.\n",
    "- **Armed Assault**: The second most common, frequently targeting both civilians and armed forces.\n",
    "- **Assasination**: Accounts for a smaller proportion but often leads to significant geopolitical attention.\n",
    "- Highlights the need for region-specific counterterrorism strategies based on prevalent attack methods.\n"
   ]
  },
  {
   "cell_type": "code",
   "execution_count": null,
   "metadata": {},
   "outputs": [],
   "source": [
    "fig = px.pie(\n",
    "    df,\n",
    "    names='attacktype',\n",
    "    color='attacktype',\n",
    "    template='plotly_dark',\n",
    "    title='Most Attack Type'\n",
    ")\n",
    "fig.show()"
   ]
  },
  {
   "cell_type": "markdown",
   "metadata": {},
   "source": [
    "# Country-Wise Attacks Distribution\n",
    "\n",
    "Insights:\n",
    "- **Most Attacked Country**: \n",
    "  - **Iraq** reported the highest number of terrorist attacks.\n",
    "- **Least Attacked Country**: \n",
    "  - **Vatican City** reported the fewest attacks.\n",
    "- **Spatial Distribution**:\n",
    "  - The map highlights clusters of high-activity regions, particularly in areas like the Middle East and South Asia.\n",
    "  - Countries with fewer attacks are scattered globally, often in smaller or more stable regions.\n",
    "- The visualization provides a clear geographic overview, helping identify regions most vulnerable to terrorist activities.\n",
    "\n",
    "**Implication**: This data can inform resource allocation for counterterrorism and humanitarian aid.\n"
   ]
  },
  {
   "cell_type": "code",
   "execution_count": null,
   "metadata": {},
   "outputs": [],
   "source": [
    "country_counts = df['country.1'].value_counts()\n",
    "highest_country = country_counts.idxmax()\n",
    "lowest_country = country_counts.idxmin()\n",
    "\n",
    "df['country_category'] = df['country.1'].apply(lambda x:'Highest Attacked' if x == highest_country else ('Lowest Attacked' if x == lowest_country else 'Other'))\n",
    "\n",
    "fig = px.scatter_mapbox(df,lat='latitude',lon='longitude',color='country_category',template='plotly_dark',title='Country Wise Attacks Distribution',hover_name='country.1',zoom = 1)\n",
    "fig.update_layout(mapbox_style='open-street-map')\n",
    "fig.show()"
   ]
  }
 ],
 "metadata": {
  "language_info": {
   "name": "python"
  }
 },
 "nbformat": 4,
 "nbformat_minor": 2
}
