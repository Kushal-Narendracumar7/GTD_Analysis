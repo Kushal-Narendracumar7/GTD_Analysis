{
 "cells": [
  {
   "cell_type": "code",
   "execution_count": null,
   "id": "7f43cbcc",
   "metadata": {},
   "outputs": [],
   "source": [
    "import pandas as pd \n",
    "import numpy as np"
   ]
  },
  {
   "cell_type": "code",
   "execution_count": null,
   "id": "23353db5",
   "metadata": {},
   "outputs": [],
   "source": [
    "df = pd.read_csv(r'C:\\Users\\Lenovo\\Desktop\\Data Analysis\\Global Terrorism\\globalterrorismDB.csv',encoding='latin-1',low_memory=False)"
   ]
  },
  {
   "cell_type": "code",
   "execution_count": null,
   "id": "f83f38c2",
   "metadata": {},
   "outputs": [],
   "source": [
    "df.shape"
   ]
  },
  {
   "cell_type": "code",
   "execution_count": null,
   "id": "0621cf29",
   "metadata": {},
   "outputs": [],
   "source": [
    "df.dtypes.to_dict()"
   ]
  },
  {
   "cell_type": "code",
   "execution_count": null,
   "id": "7f66cbd7",
   "metadata": {},
   "outputs": [],
   "source": [
    "df.isnull().sum().to_dict()"
   ]
  },
  {
   "cell_type": "markdown",
   "id": "cdd76d88",
   "metadata": {},
   "source": [
    "# **Dropping Irrelevent Columns**"
   ]
  },
  {
   "cell_type": "code",
   "execution_count": 7,
   "id": "05b3328a",
   "metadata": {},
   "outputs": [],
   "source": [
    "df.drop([\n",
    "    'resolution', 'gsubname', 'gname2', 'gsubname2', 'gname3', 'gsubname3',\n",
    "    'guncertain2', 'guncertain3', 'claim2', 'claimmode2', 'claimmode2_txt',\n",
    "    'claim3', 'claimmode3', 'claimmode3_txt', 'compclaim', 'weaptype3',\n",
    "    'weaptype3_txt', 'weapsubtype3', 'weapsubtype3_txt', 'weaptype4',\n",
    "    'weaptype4_txt', 'weapsubtype4', 'weapsubtype4_txt', 'ransomamt',\n",
    "    'ransomamtus', 'ransompaid', 'ransompaidus', 'ransomnote'\n",
    "], axis=1, errors='ignore', inplace=True)\n"
   ]
  },
  {
   "cell_type": "code",
   "execution_count": 8,
   "id": "f35c2941",
   "metadata": {},
   "outputs": [],
   "source": [
    "df.drop([\n",
    "    'targtype2', 'targtype2_txt', 'targsubtype2', 'targsubtype2_txt',\n",
    "    'corp2', 'target2', 'natlty2', 'natlty2_txt', 'targtype3', 'targtype3_txt',\n",
    "    'targsubtype3', 'targsubtype3_txt', 'corp3', 'target3', 'natlty3', 'natlty3_txt'\n",
    "], axis=1, inplace=True)\n"
   ]
  },
  {
   "cell_type": "code",
   "execution_count": 10,
   "id": "cec89f3c",
   "metadata": {},
   "outputs": [],
   "source": [
    "df.drop(['crit1','crit2','crit3','doubtterr','alternative','alternative_txt','multiple'], axis=1, inplace=True)"
   ]
  },
  {
   "cell_type": "code",
   "execution_count": 11,
   "id": "5f912579",
   "metadata": {},
   "outputs": [],
   "source": [
    "\n",
    "columns_to_drop = [\n",
    "    'eventid', 'approxdate', 'resolution', 'location', 'attacktype2', 'attacktype2_txt',\n",
    "    'attacktype3', 'attacktype3_txt', 'targsubtype1', 'targsubtype1_txt', 'corp1',\n",
    "    'natlty1', 'natlty1_txt', 'claimmode', 'claimmode_txt', 'nperps', 'nperpcap',\n",
    "    'weapsubtype1', 'weapsubtype1_txt', 'weapdetail', 'propextent', 'propextent_txt',\n",
    "    'propvalue', 'propcomment', 'hostkidoutcome', 'hostkidoutcome_txt', 'nreleased',\n",
    "    'addnotes', 'scite2', 'scite3', 'ransom', 'nhours', 'ndays', 'kidhijcountry',\n",
    "    'extended', 'vicinity', 'summary', 'guncertain1', 'guncertain2', 'guncertain3',\n",
    "    'alternative', 'alternative_txt', 'related'\n",
    "]\n",
    "\n",
    "df.drop(columns=columns_to_drop, axis=1, inplace=True, errors='ignore')\n"
   ]
  },
  {
   "cell_type": "code",
   "execution_count": 12,
   "id": "8699a453",
   "metadata": {},
   "outputs": [],
   "source": [
    "columns_to_drop = ['weaptype2', 'weaptype2_txt', 'weapsubtype2', 'weapsubtype2_txt','nhostkid','nhostkidus','divert']\n",
    "\n",
    "df.drop(columns=columns_to_drop, axis=1, inplace=True, errors='ignore')"
   ]
  },
  {
   "cell_type": "markdown",
   "id": "e9ccd174",
   "metadata": {},
   "source": [
    "# **Final Dataset with necessary columns**"
   ]
  },
  {
   "cell_type": "code",
   "execution_count": null,
   "id": "dc15c4d8",
   "metadata": {},
   "outputs": [],
   "source": [
    "df.columns.to_list()"
   ]
  }
 ],
 "metadata": {
  "language_info": {
   "name": "python"
  }
 },
 "nbformat": 4,
 "nbformat_minor": 5
}
