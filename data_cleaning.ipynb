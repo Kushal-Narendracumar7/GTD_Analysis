{
 "cells": [
  {
   "cell_type": "markdown",
   "metadata": {},
   "source": [
    "# **Filling the Missing Values**"
   ]
  },
  {
   "cell_type": "code",
   "execution_count": null,
   "metadata": {},
   "outputs": [],
   "source": [
    "df.fillna({'provstate': 'Unknown', 'city': 'Unknown'}, inplace=True)"
   ]
  },
  {
   "cell_type": "code",
   "execution_count": null,
   "metadata": {},
   "outputs": [],
   "source": [
    "df['latitude'] = df.groupby('provstate')['latitude'].transform(lambda x:x.fillna(x.mean()))\n",
    "df['longitude'] = df.groupby('provstate')['longitude'].transform(lambda x:x.fillna(x.mean()))"
   ]
  },
  {
   "cell_type": "code",
   "execution_count": null,
   "metadata": {},
   "outputs": [],
   "source": [
    "df.fillna({'target1': 'Unknown', 'summary': 'Unknown', 'motive': 'Unknown'}, inplace=True)"
   ]
  },
  {
   "cell_type": "code",
   "execution_count": null,
   "metadata": {},
   "outputs": [],
   "source": [
    "df.fillna({'nkill': 0, 'nwound': 0}, inplace=True)"
   ]
  },
  {
   "cell_type": "code",
   "execution_count": null,
   "metadata": {},
   "outputs": [],
   "source": [
    "df.fillna({'claimed':0},inplace=True)"
   ]
  },
  {
   "cell_type": "markdown",
   "metadata": {},
   "source": [
    "## Renaming the columns for better consistency"
   ]
  },
  {
   "cell_type": "code",
   "execution_count": null,
   "metadata": {},
   "outputs": [],
   "source": [
    "df.rename(columns={'iyear':'year','imonth':'month','iday':'day','country_txt':'country','region_txt':'region','attacktype1_txt':'attacktype','targtype1_txt':'target','weaptype1_txt':'weapon','nkill':'killed','nwound':'wounded','gname':'group','nkillus':'us_killed','nkillter':'ter_killed','nwoundus':'us_wounded','nwoundte':'ter_wounded'},inplace=True)"
   ]
  },
  {
   "cell_type": "code",
   "execution_count": null,
   "metadata": {},
   "outputs": [
    {
     "data": {
      "text/plain": [
       "year                     0\n",
       "month                    0\n",
       "day                      0\n",
       "country                  0\n",
       "country                  0\n",
       "region                   0\n",
       "region                   0\n",
       "provstate                0\n",
       "city                     0\n",
       "latitude                23\n",
       "longitude               23\n",
       "specificity              6\n",
       "success                  0\n",
       "suicide                  0\n",
       "attacktype1              0\n",
       "attacktype               0\n",
       "targtype1                0\n",
       "target                   0\n",
       "target1                  0\n",
       "group                    0\n",
       "motive                   0\n",
       "individual               0\n",
       "claimed                  0\n",
       "weaptype1                0\n",
       "weapon                   0\n",
       "killed                   0\n",
       "us_killed            64446\n",
       "ter_killed           66958\n",
       "wounded                  0\n",
       "us_wounded           64702\n",
       "ter_wounded          69143\n",
       "property                 0\n",
       "ishostkid              178\n",
       "scite1               66191\n",
       "dbsource                 0\n",
       "INT_LOG                  0\n",
       "INT_IDEO                 0\n",
       "INT_MISC                 0\n",
       "INT_ANY                  0\n",
       "total_casualities        0\n",
       "dtype: int64"
      ]
     },
     "metadata": {},
     "output_type": "display_data"
    }
   ],
   "source": [
    "df.isnull().sum()"
   ]
  },
  {
   "cell_type": "markdown",
   "metadata": {},
   "source": [
    "## Adding the column total_casualities "
   ]
  },
  {
   "cell_type": "code",
   "execution_count": null,
   "metadata": {},
   "outputs": [],
   "source": [
    "df['total_casualities'] = df['killed'] + df['wounded']"
   ]
  },
  {
   "cell_type": "markdown",
   "metadata": {},
   "source": [
    "# **Saving to a new CSV file for visualization**"
   ]
  },
  {
   "cell_type": "code",
   "execution_count": null,
   "metadata": {},
   "outputs": [],
   "source": [
    "df.to_csv('preprocessed_globalterrorismDB.csv',index=False)"
   ]
  }
 ],
 "metadata": {
  "language_info": {
   "name": "python"
  }
 },
 "nbformat": 4,
 "nbformat_minor": 2
}
